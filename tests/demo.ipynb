{
 "cells": [
  {
   "cell_type": "markdown",
   "metadata": {},
   "source": [
    "# Code Demo"
   ]
  },
  {
   "cell_type": "code",
   "execution_count": 1,
   "metadata": {},
   "outputs": [],
   "source": [
    "# We need to change the working directory to the parent directory of the project and run the following shell commands.\n",
    "\n",
    "import os\n",
    "os.chdir(\"..\") "
   ]
  },
  {
   "cell_type": "markdown",
   "metadata": {},
   "source": [
    "## Demonstration Purpose Small Size Demo\n",
    "### Single-file Mode"
   ]
  },
  {
   "cell_type": "code",
   "execution_count": 2,
   "metadata": {
    "vscode": {
     "languageId": "shellscript"
    }
   },
   "outputs": [
    {
     "name": "stdout",
     "output_type": "stream",
     "text": [
      "\n",
      "Processing job 1 of 1\n",
      "Parsing input file: benchmark/electronicVibration_small.ham\n",
      "Found 1 result(s) in benchmark/electronicVibration_small.ham\n",
      "Writing intermediate result 'Result' to: output/intermediate_electronicVibration_small_Result.cvdvqasm\n",
      "Writing logical result 'Result' to: output/logical_electronicVibration_small_Result.cvdvqasm\n",
      "Writing final result 'Result' to: output/electronicVibration_small_Result.cvdvqasm\n",
      "Mapping output/logical_electronicVibration_small_Result.cvdvqasm_depth_sum_simulated_annealing_tsp_qbstuck\n",
      "Finish all parsing, decomposition, and mapping for input file: benchmark/electronicVibration_small.ham\n",
      "Time taken: 8.311549663543701 seconds\n",
      "\n",
      "Total time taken: 8.311593294143677 seconds\n",
      "\n",
      "Processing job 1 of 1\n",
      "Parsing input file: benchmark/electronicVibration_small.ham\n",
      "Found 1 result(s) in benchmark/electronicVibration_small.ham\n",
      "Writing intermediate result 'Result' to: output/intermediate_electronicVibration_small_Result.cvdvqasm\n",
      "Writing logical result 'Result' to: output/logical_electronicVibration_small_Result.cvdvqasm\n",
      "Writing final result 'Result' to: output/electronicVibration_small_Result.cvdvqasm\n",
      "Mapping output/logical_electronicVibration_small_Result.cvdvqasm_depth_sum_simulated_annealing_tsp_qbstuck\n",
      "Finish all parsing, decomposition, and mapping for input file: benchmark/electronicVibration_small.ham\n",
      "Time taken: 8.416653633117676 seconds\n",
      "\n",
      "Total time taken: 8.416714668273926 seconds\n"
     ]
    }
   ],
   "source": [
    "!python3 -m src.main benchmark/electronicVibration_small.ham\n",
    "\n",
    "!python3 -m src.main benchmark/electronicVibration_small.ham --debug"
   ]
  },
  {
   "cell_type": "markdown",
   "metadata": {},
   "source": [
    "### Small Batch Jobs\n",
    "\n",
    "All iterations size are less than 4."
   ]
  },
  {
   "cell_type": "code",
   "execution_count": 3,
   "metadata": {
    "vscode": {
     "languageId": "shellscript"
    }
   },
   "outputs": [
    {
     "name": "stdout",
     "output_type": "stream",
     "text": [
      "\n",
      "Processing job 1 of 6\n",
      "Parsing input file: benchmark/heisenberg_small.ham\n",
      "Found 1 result(s) in benchmark/heisenberg_small.ham\n",
      "Writing intermediate result 'Result' to: output/heisenberg_small.cvdvqasm\n",
      "Writing logical result 'Result' to: output/logical_heisenberg_small.cvdvqasm\n",
      "Writing final result 'Result' to: output/heisenberg_small.cvdvqasm\n",
      "Mapping output/logical_heisenberg_small.cvdvqasm_depth_sum_simulated_annealing_tsp_qbstuck\n",
      "Finish all parsing, decomposition, and mapping for input file: benchmark/heisenberg_small.ham\n",
      "Time taken: 0.14380168914794922 seconds\n",
      "\n",
      "Processing job 2 of 6\n",
      "Parsing input file: benchmark/electronicVibration_small.ham\n",
      "Found 1 result(s) in benchmark/electronicVibration_small.ham\n",
      "Writing intermediate result 'Result' to: output/electronicVibration_small.cvdvqasm\n",
      "Writing logical result 'Result' to: output/logical_electronicVibration_small.cvdvqasm\n",
      "Writing final result 'Result' to: output/electronicVibration_small.cvdvqasm\n",
      "Mapping output/logical_electronicVibration_small.cvdvqasm_depth_sum_simulated_annealing_tsp_qbstuck\n",
      "Finish all parsing, decomposition, and mapping for input file: benchmark/electronicVibration_small.ham\n",
      "Time taken: 8.462787628173828 seconds\n",
      "\n",
      "Processing job 3 of 6\n",
      "Parsing input file: benchmark/z2Higgs_small.ham\n",
      "Found 1 result(s) in benchmark/z2Higgs_small.ham\n",
      "Writing intermediate result 'Result' to: output/z2Higgs_small.cvdvqasm\n",
      "Writing logical result 'Result' to: output/logical_z2Higgs_small.cvdvqasm\n",
      "Writing final result 'Result' to: output/z2Higgs_small.cvdvqasm\n",
      "Mapping output/logical_z2Higgs_small.cvdvqasm_depth_sum_simulated_annealing_tsp_qbstuck\n",
      "Finish all parsing, decomposition, and mapping for input file: benchmark/z2Higgs_small.ham\n",
      "Time taken: 42.604731798172 seconds\n",
      "\n",
      "Processing job 4 of 6\n",
      "Parsing input file: benchmark/boseHubbard_small.ham\n",
      "Found 1 result(s) in benchmark/boseHubbard_small.ham\n",
      "Writing intermediate result 'Result' to: output/boseHubbard_small.cvdvqasm\n",
      "Writing logical result 'Result' to: output/logical_boseHubbard_small.cvdvqasm\n",
      "Writing final result 'Result' to: output/boseHubbard_small.cvdvqasm\n",
      "Mapping output/logical_boseHubbard_small.cvdvqasm_depth_sum_simulated_annealing_tsp_qbstuck\n",
      "Finish all parsing, decomposition, and mapping for input file: benchmark/boseHubbard_small.ham\n",
      "Time taken: 42.10944056510925 seconds\n",
      "\n",
      "Processing job 5 of 6\n",
      "Parsing input file: benchmark/hubbardHolstein_small.ham\n",
      "Found 1 result(s) in benchmark/hubbardHolstein_small.ham\n",
      "Writing intermediate result 'Result' to: output/hubbardHolstein_small.cvdvqasm\n",
      "Writing logical result 'Result' to: output/logical_hubbardHolstein_small.cvdvqasm\n",
      "Writing final result 'Result' to: output/hubbardHolstein_small.cvdvqasm\n",
      "Mapping output/logical_hubbardHolstein_small.cvdvqasm_depth_sum_simulated_annealing_tsp_qbstuck\n",
      "Finish all parsing, decomposition, and mapping for input file: benchmark/hubbardHolstein_small.ham\n",
      "Time taken: 1.2859456539154053 seconds\n",
      "\n",
      "Processing job 6 of 6\n",
      "Parsing input file: benchmark/kerr_small.ham\n",
      "Found 1 result(s) in benchmark/kerr_small.ham\n",
      "Writing intermediate result 'Result' to: output/kerr_small.cvdvqasm\n",
      "Writing logical result 'Result' to: output/logical_kerr_small.cvdvqasm\n",
      "Writing final result 'Result' to: output/kerr_small.cvdvqasm\n",
      "Mapping output/logical_kerr_small.cvdvqasm_depth_sum_simulated_annealing_tsp_qbstuck\n",
      "Finish all parsing, decomposition, and mapping for input file: benchmark/kerr_small.ham\n",
      "Time taken: 219.50517320632935 seconds\n",
      "\n",
      "Total time taken: 314.1120254993439 seconds\n",
      "\n",
      "Processing job 1 of 6\n",
      "Parsing input file: benchmark/heisenberg_small.ham\n",
      "Found 1 result(s) in benchmark/heisenberg_small.ham\n",
      "Writing intermediate result 'Result' to: output/intermediate_heisenberg_small.cvdvqasm\n",
      "Writing logical result 'Result' to: output/logical_heisenberg_small.cvdvqasm\n",
      "Writing final result 'Result' to: output/heisenberg_small.cvdvqasm\n",
      "Mapping output/logical_heisenberg_small.cvdvqasm_depth_sum_simulated_annealing_tsp_qbstuck\n",
      "Finish all parsing, decomposition, and mapping for input file: benchmark/heisenberg_small.ham\n",
      "Time taken: 0.25472068786621094 seconds\n",
      "\n",
      "Processing job 2 of 6\n",
      "Parsing input file: benchmark/electronicVibration_small.ham\n",
      "Found 1 result(s) in benchmark/electronicVibration_small.ham\n",
      "Writing intermediate result 'Result' to: output/intermediate_electronicVibration_small.cvdvqasm\n",
      "Writing logical result 'Result' to: output/logical_electronicVibration_small.cvdvqasm\n",
      "Writing final result 'Result' to: output/electronicVibration_small.cvdvqasm\n",
      "Mapping output/logical_electronicVibration_small.cvdvqasm_depth_sum_simulated_annealing_tsp_qbstuck\n",
      "Finish all parsing, decomposition, and mapping for input file: benchmark/electronicVibration_small.ham\n",
      "Time taken: 8.895593166351318 seconds\n",
      "\n",
      "Processing job 3 of 6\n",
      "Parsing input file: benchmark/z2Higgs_small.ham\n",
      "Found 1 result(s) in benchmark/z2Higgs_small.ham\n",
      "Writing intermediate result 'Result' to: output/intermediate_z2Higgs_small.cvdvqasm\n",
      "Writing logical result 'Result' to: output/logical_z2Higgs_small.cvdvqasm\n",
      "Writing final result 'Result' to: output/z2Higgs_small.cvdvqasm\n",
      "Mapping output/logical_z2Higgs_small.cvdvqasm_depth_sum_simulated_annealing_tsp_qbstuck\n",
      "Finish all parsing, decomposition, and mapping for input file: benchmark/z2Higgs_small.ham\n",
      "Time taken: 42.87066602706909 seconds\n",
      "\n",
      "Processing job 4 of 6\n",
      "Parsing input file: benchmark/boseHubbard_small.ham\n",
      "Found 1 result(s) in benchmark/boseHubbard_small.ham\n",
      "Writing intermediate result 'Result' to: output/intermediate_boseHubbard_small.cvdvqasm\n",
      "Writing logical result 'Result' to: output/logical_boseHubbard_small.cvdvqasm\n",
      "Writing final result 'Result' to: output/boseHubbard_small.cvdvqasm\n",
      "Mapping output/logical_boseHubbard_small.cvdvqasm_depth_sum_simulated_annealing_tsp_qbstuck\n",
      "Finish all parsing, decomposition, and mapping for input file: benchmark/boseHubbard_small.ham\n",
      "Time taken: 43.76433205604553 seconds\n",
      "\n",
      "Processing job 5 of 6\n",
      "Parsing input file: benchmark/hubbardHolstein_small.ham\n",
      "Found 1 result(s) in benchmark/hubbardHolstein_small.ham\n",
      "Writing intermediate result 'Result' to: output/intermediate_hubbardHolstein_small.cvdvqasm\n",
      "Writing logical result 'Result' to: output/logical_hubbardHolstein_small.cvdvqasm\n",
      "Writing final result 'Result' to: output/hubbardHolstein_small.cvdvqasm\n",
      "Mapping output/logical_hubbardHolstein_small.cvdvqasm_depth_sum_simulated_annealing_tsp_qbstuck\n",
      "Finish all parsing, decomposition, and mapping for input file: benchmark/hubbardHolstein_small.ham\n",
      "Time taken: 1.3711824417114258 seconds\n",
      "\n",
      "Processing job 6 of 6\n",
      "Parsing input file: benchmark/kerr_small.ham\n",
      "Found 1 result(s) in benchmark/kerr_small.ham\n",
      "Writing intermediate result 'Result' to: output/intermediate_kerr_small.cvdvqasm\n",
      "Writing logical result 'Result' to: output/logical_kerr_small.cvdvqasm\n",
      "Writing final result 'Result' to: output/kerr_small.cvdvqasm\n",
      "Mapping output/logical_kerr_small.cvdvqasm_depth_sum_simulated_annealing_tsp_qbstuck\n",
      "Finish all parsing, decomposition, and mapping for input file: benchmark/kerr_small.ham\n",
      "Time taken: 223.21271133422852 seconds\n",
      "\n",
      "Total time taken: 320.3693962097168 seconds\n"
     ]
    }
   ],
   "source": [
    "!python3 -m src.main --batch-json tests/small_batch_jobs.json\n",
    "\n",
    "!python3 -m src.main --batch-json tests/small_batch_jobs.json --stats"
   ]
  },
  {
   "cell_type": "markdown",
   "metadata": {},
   "source": [
    "### Small Pattern Matching and Mapping Testcases"
   ]
  },
  {
   "cell_type": "code",
   "execution_count": 4,
   "metadata": {
    "vscode": {
     "languageId": "shellscript"
    }
   },
   "outputs": [],
   "source": [
    "!python3 -m tests.single_testcase.test_single_testcase > tests/single_testcase/test_single_testcase_outlog.txt\n",
    "\n",
    "!python3 -m tests.pauli_map_test.test_pauli_map > tests/pauli_map_test/test_pauli_map_outlog.txt"
   ]
  },
  {
   "cell_type": "markdown",
   "metadata": {},
   "source": [
    "### CVDVQASM Mapping for Qubit Hamiltonians"
   ]
  },
  {
   "cell_type": "code",
   "execution_count": 5,
   "metadata": {
    "vscode": {
     "languageId": "shellscript"
    }
   },
   "outputs": [
    {
     "name": "stdout",
     "output_type": "stream",
     "text": [
      "\n",
      "Processing job 1 of 1\n",
      "Parsing input file: qubit_hamiltonians/LiH/BK_LiH_sto3g_4_electrons_12_spin_orbitals_Hamiltonian_631_paulis.txt\n",
      "Mapping qubit_hamiltonians/LiH/BK_LiH_sto3g_4_electrons_12_spin_orbitals_Hamiltonian_631_paulis.txt_depth_sum_christofides_qbstuck\n",
      "Finish all parsing, decomposition, and mapping for input file: qubit_hamiltonians/LiH/BK_LiH_sto3g_4_electrons_12_spin_orbitals_Hamiltonian_631_paulis.txt\n",
      "Mapping qubit_hamiltonians/LiH/BK_LiH_sto3g_4_electrons_12_spin_orbitals_Hamiltonian_631_paulis.txt_depth_sum_threshold_accepting_tsp_qbstuck\n",
      "Finish all parsing, decomposition, and mapping for input file: qubit_hamiltonians/LiH/BK_LiH_sto3g_4_electrons_12_spin_orbitals_Hamiltonian_631_paulis.txt\n",
      "Mapping qubit_hamiltonians/LiH/BK_LiH_sto3g_4_electrons_12_spin_orbitals_Hamiltonian_631_paulis.txt_depth_sum_threshold_accepting_tsp_qbmov\n",
      "Finish all parsing, decomposition, and mapping for input file: qubit_hamiltonians/LiH/BK_LiH_sto3g_4_electrons_12_spin_orbitals_Hamiltonian_631_paulis.txt\n",
      "No result assignments found in qubit_hamiltonians/LiH/BK_LiH_sto3g_4_electrons_12_spin_orbitals_Hamiltonian_631_paulis.txt\n",
      "Time taken: 62.793994665145874 seconds\n",
      "\n",
      "Total time taken: 62.79405951499939 seconds\n",
      "\n",
      "Processing job 1 of 2\n",
      "Parsing input file: qubit_hamiltonians/LiH/BK_LiH_sto3g_4_electrons_12_spin_orbitals_Hamiltonian_631_paulis.txt\n",
      "Mapping qubit_hamiltonians/LiH/BK_LiH_sto3g_4_electrons_12_spin_orbitals_Hamiltonian_631_paulis.txt_depth_sum_christofides_qbstuck\n",
      "Finish all parsing, decomposition, and mapping for input file: qubit_hamiltonians/LiH/BK_LiH_sto3g_4_electrons_12_spin_orbitals_Hamiltonian_631_paulis.txt\n",
      "Mapping qubit_hamiltonians/LiH/BK_LiH_sto3g_4_electrons_12_spin_orbitals_Hamiltonian_631_paulis.txt_depth_sum_threshold_accepting_tsp_qbstuck\n",
      "Finish all parsing, decomposition, and mapping for input file: qubit_hamiltonians/LiH/BK_LiH_sto3g_4_electrons_12_spin_orbitals_Hamiltonian_631_paulis.txt\n",
      "Mapping qubit_hamiltonians/LiH/BK_LiH_sto3g_4_electrons_12_spin_orbitals_Hamiltonian_631_paulis.txt_depth_sum_threshold_accepting_tsp_qbmov\n",
      "Finish all parsing, decomposition, and mapping for input file: qubit_hamiltonians/LiH/BK_LiH_sto3g_4_electrons_12_spin_orbitals_Hamiltonian_631_paulis.txt\n",
      "No result assignments found in qubit_hamiltonians/LiH/BK_LiH_sto3g_4_electrons_12_spin_orbitals_Hamiltonian_631_paulis.txt\n",
      "Time taken: 62.807677030563354 seconds\n",
      "\n",
      "Processing job 2 of 2\n",
      "Parsing input file: qubit_hamiltonians/LiH/JW_LiH_sto3g_4_electrons_12_spin_orbitals_Hamiltonian_631_paulis.txt\n",
      "Mapping qubit_hamiltonians/LiH/JW_LiH_sto3g_4_electrons_12_spin_orbitals_Hamiltonian_631_paulis.txt_depth_sum_christofides_qbstuck\n",
      "Finish all parsing, decomposition, and mapping for input file: qubit_hamiltonians/LiH/JW_LiH_sto3g_4_electrons_12_spin_orbitals_Hamiltonian_631_paulis.txt\n",
      "Mapping qubit_hamiltonians/LiH/JW_LiH_sto3g_4_electrons_12_spin_orbitals_Hamiltonian_631_paulis.txt_depth_sum_threshold_accepting_tsp_qbstuck\n",
      "Finish all parsing, decomposition, and mapping for input file: qubit_hamiltonians/LiH/JW_LiH_sto3g_4_electrons_12_spin_orbitals_Hamiltonian_631_paulis.txt\n",
      "Mapping qubit_hamiltonians/LiH/JW_LiH_sto3g_4_electrons_12_spin_orbitals_Hamiltonian_631_paulis.txt_depth_sum_threshold_accepting_tsp_qbmov\n",
      "Finish all parsing, decomposition, and mapping for input file: qubit_hamiltonians/LiH/JW_LiH_sto3g_4_electrons_12_spin_orbitals_Hamiltonian_631_paulis.txt\n",
      "No result assignments found in qubit_hamiltonians/LiH/JW_LiH_sto3g_4_electrons_12_spin_orbitals_Hamiltonian_631_paulis.txt\n",
      "Time taken: 50.85262942314148 seconds\n",
      "\n",
      "Total time taken: 113.66036653518677 seconds\n"
     ]
    }
   ],
   "source": [
    "!python3 -m src.decomp_molecule qubit_hamiltonians/LiH/BK_LiH_sto3g_4_electrons_12_spin_orbitals_Hamiltonian_631_paulis.txt\n",
    "\n",
    "!python3 -m src.decomp_molecule --batch-json tests/molecule_small_batch_jobs.json"
   ]
  },
  {
   "cell_type": "markdown",
   "metadata": {},
   "source": [
    "## Evaluation Purpose General Benchmark Demo\n",
    "\n",
    "Iterations size from 20 to 60, compile 6 different Hamiltonians from `.ham` files in `benchmark/` folder to hardware-compliant physical `.cvdvqasm` files."
   ]
  },
  {
   "cell_type": "code",
   "execution_count": null,
   "metadata": {
    "vscode": {
     "languageId": "shellscript"
    }
   },
   "outputs": [],
   "source": [
    "!python3 -m src.main --batch-json tests/batch_jobs.json --stats"
   ]
  },
  {
   "cell_type": "markdown",
   "metadata": {},
   "source": [
    "Hardware-compilant Mapping for 10 different Qubit Hamiltonians with Jordan-Wigner and Bravyi-Kitaev Mapping"
   ]
  },
  {
   "cell_type": "code",
   "execution_count": null,
   "metadata": {
    "vscode": {
     "languageId": "shellscript"
    }
   },
   "outputs": [],
   "source": [
    "!python3 -m src.decomp_molecule --batch-json tests/molecule_batch_jobs.json --stats"
   ]
  }
 ],
 "metadata": {
  "kernelspec": {
   "display_name": ".venv",
   "language": "python",
   "name": "python3"
  },
  "language_info": {
   "codemirror_mode": {
    "name": "ipython",
    "version": 3
   },
   "file_extension": ".py",
   "mimetype": "text/x-python",
   "name": "python",
   "nbconvert_exporter": "python",
   "pygments_lexer": "ipython3",
   "version": "3.10.12"
  }
 },
 "nbformat": 4,
 "nbformat_minor": 2
}
